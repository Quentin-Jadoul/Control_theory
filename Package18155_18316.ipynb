{
 "cells": [
  {
   "cell_type": "code",
   "execution_count": 200,
   "metadata": {},
   "outputs": [],
   "source": [
    "import numpy as np\n",
    "import matplotlib.pyplot as plt\n",
    "from scipy.optimize import minimize\n",
    "from matplotlib import colors as mcolors\n",
    "\n",
    "import Package18155_18316\n",
    "\n",
    "from importlib import reload\n",
    "Package18155_18316 = reload(Package18155_18316)\n",
    "\n",
    "from Package18155_18316 import LeadLag_RT\n",
    "from Package18155_18316 import PID_RT\n",
    "\n",
    "import package_DBR\n",
    "from package_DBR import myRound, SelectPath_RT, Delay_RT, FO_RT, FOPDT, SOPDT, FOPDT_cost, SOPDT_cost, Process, Bode\n"
   ]
  },
  {
   "cell_type": "code",
   "execution_count": 201,
   "metadata": {},
   "outputs": [
    {
     "name": "stdout",
     "output_type": "stream",
     "text": [
      "Help on function LeadLag_RT in module Package18155_18316:\n",
      "\n",
      "LeadLag_RT(MV, Kp, Tlead, Tlag, Ts, PV, PVinit=0, method='EBD')\n",
      "    The function \"LeadLag_RT\" needs to be included in a \"for or while loop\".\n",
      "    \n",
      "    :MV: input vector\n",
      "    :Kp: process gain\n",
      "    :Tlead: lead time constant [s]\n",
      "    :Tlag: lag time constant [s]\n",
      "    :Ts: sampling period [s]\n",
      "    :PV: output vector\n",
      "    :PVInit: (optional: default value is 0)\n",
      "    :method: discretisation method (optional: default value is 'EBD')\n",
      "        EBD: Euler Backward difference\n",
      "        EFD: Euler Forward difference\n",
      "        TRAP: Trapezoïdal method\n",
      "    \n",
      "    The function \"LeadLag_RT\" appends a value to the output vector \"PV\".\n",
      "    The appended value is obtained from a recurrent equation that depends on the discretisation method.\n",
      "\n"
     ]
    }
   ],
   "source": [
    "help(LeadLag_RT)"
   ]
  },
  {
   "cell_type": "code",
   "execution_count": 222,
   "metadata": {},
   "outputs": [
    {
     "name": "stdout",
     "output_type": "stream",
     "text": [
      "4.002332768426443\n"
     ]
    },
    {
     "data": {
      "image/png": "[encoded data removed]",
      "text/plain": [
       "<Figure size 1080x648 with 1 Axes>"
      ]
     },
     "metadata": {
      "needs_background": "light"
     },
     "output_type": "display_data"
    }
   ],
   "source": [
    "TSim = 100\n",
    "Ts = 0.1\n",
    "N = int(TSim/Ts) + 1\n",
    "\n",
    "\n",
    "t= []\n",
    "MV = []\n",
    "PVB=[]\n",
    "PVB2=[]\n",
    "PVF=[]\n",
    "# Path for MV and MVMan\n",
    "MVPath = {0: 0, 5: 1, 50: 2, 80: 3}\n",
    "\n",
    "for i in range(0,N):\n",
    "    t.append(i*Ts)\n",
    "    SelectPath_RT(MVPath,t,MV)\n",
    "    LeadLag_RT(MV, 1, 10, 5, 0.1, PVB, method='EBD')#Tlead plus grd Tlag \n",
    "    LeadLag_RT(MV, 1, 10, 5, 0.1, PVF, method='EFD')\n",
    "    #LeadLag_RT(MV, 1, 2, 5, 0.1, PVB2,method='EBD')#Tlead plus petit Tlag\n",
    "\n",
    "    #LeadLag_RT(MV, 1, 2, 5, 0.1, PV, EFD)                                    #Tlead plus petit Tlag\n",
    "    \n",
    "plt.figure(figsize = (15,9))\n",
    "\n",
    "plt.step(t,MV,'y-',label='MV',where='post')\n",
    "plt.step(t,PVB,'b-',label='pvb',where='post')\n",
    "plt.step(t,PVF,'r-',label='pvf',where='post')\n",
    "#plt.step(t,PVF,'g-',label='pvb Tlead<Tlag',where='post')\n",
    "plt.ylabel('Value of MV')\n",
    "plt.legend(loc='best')\n",
    "plt.title('LeadLag')\n",
    "plt.xlim([0, TSim])\n",
    "print(max(PV))  #3.982970892784393 EBD\n",
    "                #4.002332768426443 EFD\n",
    "\n",
    "\n",
    "\n"
   ]
  },
  {
   "cell_type": "code",
   "execution_count": 203,
   "metadata": {},
   "outputs": [
    {
     "name": "stdout",
     "output_type": "stream",
     "text": [
      "Help on function PID_RT in module Package18155_18316:\n",
      "\n",
      "PID_RT(SP, PV, Man, MVMan, MVFF, Kc, Ti, Td, alpha, Ts, MVMin, MVMax, MV, MVP, MVI, MVD, E, ManFF=False, PVInit=0, method='EBD-EBD')\n",
      "    The function \"PID_RT\" needs to be included in a \"for or while loop\".\n",
      "    :SP: SP (or SetPoint) vector\n",
      "    :PV: PV (or Process Value) vector\n",
      "    :Man: Man(or Manual controller mode) vector  [True or False]\n",
      "    :MVMan: MVMan(or Manual value for MV) vector\n",
      "    :MVFF: MVFF (or feedforward) vector\n",
      "    :Kp: process gain\n",
      "    :Ti: integral time constant [s]\n",
      "    :Td: derivative time constant [s]\n",
      "    :alpha: Tfd=alpha*Td where Tfd is the derivative filter time constant [s]\n",
      "    :Ts: sampling period [s]\n",
      "    \n",
      "    :MVMin: minimum value for MV (used for saturation and anti wind-up)\n",
      "    :MVMax: maximum value for MV (used for saturation and anti wind-up)\n",
      "    \n",
      "    :MV: MV (or Manipulated Value) vector\n",
      "    :MVP: MVP (or Proportional part of MV) vector \n",
      "    :MVI: MVI (or integral part of MV) vector\n",
      "    :MVD: MVD (or derivative part of MV) vector\n",
      "    :E: E (or control error) vector\n",
      "    \n",
      "    :ManFF:Activated FF in manual mode (optional: default boolean value is False)\n",
      "    :PVInit: Initial value of PV (optional: default value is 0): used if PID_RT is ran first in the squence and no value of PV is available yet.\n",
      "    \n",
      "    :method: discretisation method (optional: default value is 'EBD')\n",
      "        EBD-EDB: EBD for integral action and EBD for derivative action\n",
      "        EBD-TRAP: EBD for integral action and TRAP for derivative action\n",
      "        TRAP-EBD: TRAP for integral action and EBD for derivative action\n",
      "        TRAP-TRAP: TRAP for integral action and TRAP for derivative action\n",
      "    \n",
      "    The function \"PID_RT\" appends new values to the vectors \"MV\", \"MVP\", \"MVI\", and \"MVD\" .\n",
      "    The appended values are based on the PID algorithm, the controller mode, and feedforward.\n",
      "    Note that saturation of \"MV\" within the limits [MVMin MVMax] is implemented with anti wind-up.\n",
      "\n"
     ]
    }
   ],
   "source": [
    "help(PID_RT)"
   ]
  },
  {
   "cell_type": "code",
   "execution_count": 204,
   "metadata": {},
   "outputs": [
    {
     "data": {
      "text/plain": [
       "(0.0, 50.0)"
      ]
     },
     "execution_count": 204,
     "metadata": {},
     "output_type": "execute_result"
    },
    {
     "data": {
      "image/png": "[encoded data removed]",
      "text/plain": [
       "<Figure size 1080x648 with 1 Axes>"
      ]
     },
     "metadata": {
      "needs_background": "light"
     },
     "output_type": "display_data"
    }
   ],
   "source": [
    "TSim = 50\n",
    "Ts = 0.1\n",
    "N = int(TSim/Ts) + 1\n",
    "\n",
    "\n",
    "t= []\n",
    "SP = []\n",
    "PV=[]\n",
    "MV=[]\n",
    "E=[]\n",
    "MVP=[]\n",
    "MVI=[]\n",
    "MVD=[]\n",
    "MVFF=[]\n",
    "\n",
    "\n",
    "SPPath={0:50, 5:60, TSim:60}\n",
    "\n",
    "PVPath={0:50, 5:50, TSim:50}\n",
    "ManPath={0:False, TSim:False}#automatic mode #true if manual mode\n",
    "MVManPath={0:50,TSim:50}\n",
    "MVFFPath={0:0,TSim:0}\n",
    "\n",
    "\n",
    "Man= False\n",
    "Kc=1\n",
    "Ti=8\n",
    "Td=5\n",
    "alpha=0.5\n",
    "MVMin=0\n",
    "MVMax=100\n",
    "MVMan=[]\n",
    "\n",
    "\n",
    "# Path for MV and MVMan\n",
    "#MVPath = {0: 0, 5: 1, 50: 2, 80: 3}\n",
    "\n",
    "\n",
    "\n",
    "\n",
    "for i in range(0,N):\n",
    "    t.append(i*Ts)\n",
    "    SelectPath_RT(SPPath,t,SP)\n",
    "    #print(SP)\n",
    "    SelectPath_RT(PVPath,t,PV)\n",
    "    #SelectPath_RT(ManPath,t,Man)\n",
    "\n",
    "    SelectPath_RT(MVManPath,t,MVMan)\n",
    "    SelectPath_RT(MVFFPath,t,MVFF)\n",
    "    PID_RT(SP,PV,Man, MVMan, MVFF,Kc,Ti,Td,alpha,Ts, MVMin, MVMax,MV,MVP,MVI,MVD,E, ManFF=False, PVInit=0, method='EBD-EBD')\n",
    "#print(MVP)\n",
    "\n",
    "plt.figure(figsize = (15,9))\n",
    "\n",
    "#plt.step(t,SP,'b-',label='SP',where='post')\n",
    "#plt.step(t,PV,'g-',label='pv',where='post')\n",
    "#plt.step(t,MVMan,'r-',label='MVMan',where='post')\n",
    "#plt.step(t,MVFF,'-',label='MVFF',where='post')\n",
    "plt.step(t,MV,'y-',label='MV',where='post')\n",
    "plt.step(t,MVI,'b-',label='MVI',where='post')\n",
    "plt.step(t,MVP,'g-',label='MVP',where='post')\n",
    "plt.step(t,MVD, 'r-',label='MVD',where='post')\n",
    "plt.step(t,E,'b--',label='E',where='post')\n",
    "plt.ylabel('Value of MV')\n",
    "plt.legend(loc='best')\n",
    "plt.title('PID')\n",
    "plt.xlim([0, TSim])"
   ]
  },
  {
   "cell_type": "code",
   "execution_count": null,
   "metadata": {},
   "outputs": [],
   "source": []
  },
  {
   "cell_type": "code",
   "execution_count": null,
   "metadata": {},
   "outputs": [],
   "source": []
  }
 ],
 "metadata": {
  "kernelspec": {
   "display_name": "Python 3",
   "language": "python",
   "name": "python3"
  },
  "language_info": {
   "codemirror_mode": {
    "name": "ipython",
    "version": 3
   },
   "file_extension": ".py",
   "mimetype": "text/x-python",
   "name": "python",
   "nbconvert_exporter": "python",
   "pygments_lexer": "ipython3",
   "version": "3.8.5"
  }
 },
 "nbformat": 4,
 "nbformat_minor": 4
}
